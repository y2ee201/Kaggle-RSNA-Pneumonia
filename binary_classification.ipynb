{
 "cells": [
  {
   "cell_type": "code",
   "execution_count": 1,
   "metadata": {
    "collapsed": false
   },
   "outputs": [
    {
     "name": "stderr",
     "output_type": "stream",
     "text": [
      "Using TensorFlow backend.\n"
     ]
    }
   ],
   "source": [
    "import numpy as np\n",
    "import pandas as pd\n",
    "import pydicom\n",
    "import matplotlib.pyplot as plt\n",
    "%matplotlib inline\n",
    "from PIL import Image\n",
    "import seaborn as sns\n",
    "import os\n",
    "from tqdm import tqdm\n",
    "from keras.layers import Dense, GlobalAveragePooling2D, Conv2D, BatchNormalization, MaxPooling2D, Input\n",
    "from keras.models import Model"
   ]
  },
  {
   "cell_type": "code",
   "execution_count": 2,
   "metadata": {
    "collapsed": false
   },
   "outputs": [
    {
     "name": "stdout",
     "output_type": "stream",
     "text": [
      "<class 'pandas.core.frame.DataFrame'>\n",
      "Int64Index: 28989 entries, 0 to 28988\n",
      "Data columns (total 9 columns):\n",
      "patientId    28989 non-null object\n",
      "x            8964 non-null float64\n",
      "y            8964 non-null float64\n",
      "width        8964 non-null float64\n",
      "height       8964 non-null float64\n",
      "Target       28989 non-null int64\n",
      "age          28989 non-null int64\n",
      "vpe          28989 non-null object\n",
      "sex          28989 non-null object\n",
      "dtypes: float64(4), int64(2), object(3)\n",
      "memory usage: 2.2+ MB\n"
     ]
    }
   ],
   "source": [
    "dataset = pd.read_pickle('./stage_1_train_labels_ext')\n",
    "dataset.info()"
   ]
  },
  {
   "cell_type": "code",
   "execution_count": 3,
   "metadata": {
    "collapsed": false
   },
   "outputs": [
    {
     "name": "stderr",
     "output_type": "stream",
     "text": [
      "100%|████████████████████████████████████████████████████████████████████████████| 28989/28989 [10:31<00:00, 45.93it/s]\n"
     ]
    },
    {
     "name": "stdout",
     "output_type": "stream",
     "text": [
      "Loaded  28989  images\n"
     ]
    }
   ],
   "source": [
    "xrays = []\n",
    "compression = (128, 128)\n",
    "path = './stage_1_train_images/'\n",
    "for patientId in tqdm(dataset.patientId):\n",
    "    pds = pydicom.read_file(path + patientId + '.dcm')\n",
    "    img = Image.fromarray(pds.pixel_array)\n",
    "    img = img.resize(compression, Image.ANTIALIAS)\n",
    "    xray = np.array(img)\n",
    "    xray = xray/255\n",
    "    xrays.append(xray)\n",
    "print('Loaded ', len(xrays), ' images')"
   ]
  },
  {
   "cell_type": "code",
   "execution_count": 19,
   "metadata": {
    "collapsed": false
   },
   "outputs": [
    {
     "data": {
      "text/plain": [
       "(28989, 128, 128, 1)"
      ]
     },
     "execution_count": 19,
     "metadata": {},
     "output_type": "execute_result"
    }
   ],
   "source": [
    "xrays = np.array(xrays)\n",
    "xrays = xrays.reshape((-1, compression[0], compression[1], 1))\n",
    "xrays.shape"
   ]
  },
  {
   "cell_type": "code",
   "execution_count": 41,
   "metadata": {
    "collapsed": false
   },
   "outputs": [
    {
     "name": "stdout",
     "output_type": "stream",
     "text": [
      "_________________________________________________________________\n",
      "Layer (type)                 Output Shape              Param #   \n",
      "=================================================================\n",
      "input_16 (InputLayer)        (None, 128, 128, 1)       0         \n",
      "_________________________________________________________________\n",
      "conv2d_15 (Conv2D)           (None, 125, 125, 64)      1088      \n",
      "_________________________________________________________________\n",
      "max_pooling2d_10 (MaxPooling (None, 41, 41, 64)        0         \n",
      "_________________________________________________________________\n",
      "batch_normalization_9 (Batch (None, 41, 41, 64)        256       \n",
      "_________________________________________________________________\n",
      "global_average_pooling2d_8 ( (None, 64)                0         \n",
      "_________________________________________________________________\n",
      "dense_7 (Dense)              (None, 1)                 65        \n",
      "=================================================================\n",
      "Total params: 1,409\n",
      "Trainable params: 1,281\n",
      "Non-trainable params: 128\n",
      "_________________________________________________________________\n"
     ]
    }
   ],
   "source": [
    "inputs = Input(shape=(compression[0], compression[1], 1))\n",
    "\n",
    "cnn = Conv2D(64, (4, 4), activation='relu')(inputs)\n",
    "cnn = MaxPooling2D((3, 3))(cnn)\n",
    "cnn = BatchNormalization()(cnn)\n",
    "\n",
    "cnn = GlobalAveragePooling2D()(cnn)\n",
    "\n",
    "dense = Dense(1, activation='sigmoid')(cnn)\n",
    "\n",
    "model = Model(inputs=inputs, outputs=dense)\n",
    "\n",
    "model.compile(loss='binary_crossentropy', metrics = ['accuracy'], optimizer='adam')\n",
    "\n",
    "model.summary()"
   ]
  },
  {
   "cell_type": "code",
   "execution_count": null,
   "metadata": {
    "collapsed": false
   },
   "outputs": [
    {
     "name": "stdout",
     "output_type": "stream",
     "text": [
      "Epoch 1/1\n"
     ]
    }
   ],
   "source": [
    "training_history = model.fit(xrays, dataset.Target, epochs=1, batch_size=16)"
   ]
  },
  {
   "cell_type": "code",
   "execution_count": null,
   "metadata": {
    "collapsed": true
   },
   "outputs": [],
   "source": []
  }
 ],
 "metadata": {
  "kernelspec": {
   "display_name": "Python 3",
   "language": "python",
   "name": "python3"
  },
  "language_info": {
   "codemirror_mode": {
    "name": "ipython",
    "version": 3
   },
   "file_extension": ".py",
   "mimetype": "text/x-python",
   "name": "python",
   "nbconvert_exporter": "python",
   "pygments_lexer": "ipython3",
   "version": "3.5.2"
  }
 },
 "nbformat": 4,
 "nbformat_minor": 2
}
